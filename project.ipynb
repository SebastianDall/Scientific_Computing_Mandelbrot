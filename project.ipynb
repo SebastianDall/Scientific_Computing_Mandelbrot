{
 "cells": [
  {
   "cell_type": "code",
   "execution_count": 37,
   "metadata": {},
   "outputs": [],
   "source": [
    "import numpy as np\n",
    "import matplotlib.pyplot as plt\n",
    "from mandelbrot.mandelbrot import mandelbrot_naive"
   ]
  },
  {
   "cell_type": "code",
   "execution_count": 32,
   "metadata": {},
   "outputs": [
    {
     "data": {
      "text/plain": [
       "array([[-2.        -1.5j       , -1.996997  -1.5j       ,\n",
       "        -1.99399399-1.5j       , ...,  0.99399399-1.5j       ,\n",
       "         0.996997  -1.5j       ,  1.        -1.5j       ],\n",
       "       [-2.        -1.496997j  , -1.996997  -1.496997j  ,\n",
       "        -1.99399399-1.496997j  , ...,  0.99399399-1.496997j  ,\n",
       "         0.996997  -1.496997j  ,  1.        -1.496997j  ],\n",
       "       [-2.        -1.49399399j, -1.996997  -1.49399399j,\n",
       "        -1.99399399-1.49399399j, ...,  0.99399399-1.49399399j,\n",
       "         0.996997  -1.49399399j,  1.        -1.49399399j],\n",
       "       ...,\n",
       "       [-2.        +1.49399399j, -1.996997  +1.49399399j,\n",
       "        -1.99399399+1.49399399j, ...,  0.99399399+1.49399399j,\n",
       "         0.996997  +1.49399399j,  1.        +1.49399399j],\n",
       "       [-2.        +1.496997j  , -1.996997  +1.496997j  ,\n",
       "        -1.99399399+1.496997j  , ...,  0.99399399+1.496997j  ,\n",
       "         0.996997  +1.496997j  ,  1.        +1.496997j  ],\n",
       "       [-2.        +1.5j       , -1.996997  +1.5j       ,\n",
       "        -1.99399399+1.5j       , ...,  0.99399399+1.5j       ,\n",
       "         0.996997  +1.5j       ,  1.        +1.5j       ]])"
      ]
     },
     "execution_count": 32,
     "metadata": {},
     "output_type": "execute_result"
    }
   ],
   "source": [
    "# Create an array of complex numbers\n",
    "pre = 1000\n",
    "pim = 1000\n",
    "\n",
    "R = np.linspace(-2, 1, pre)\n",
    "I = 1j * np.linspace(-1.5, 1.5, pim)\n",
    "\n",
    "R, I = np.meshgrid(R, I)\n",
    "\n",
    "C = R + I\n",
    "C"
   ]
  },
  {
   "cell_type": "code",
   "execution_count": 33,
   "metadata": {},
   "outputs": [],
   "source": [
    "# Calculate the Mandelbrot set\n",
    "# MandelbrotSet = mandelbrot_naive(C, 1000)\n",
    "\n",
    "MandelbrotSet = np.zeros((pre, pim))\n",
    "\n",
    "for i, c in enumerate(C):\n",
    "    for j, c in enumerate(C[i]):\n",
    "        MandelbrotSet[i][j] = mandelbrot_naive(C[i,j], 500)\n"
   ]
  },
  {
   "cell_type": "code",
   "execution_count": 42,
   "metadata": {},
   "outputs": [
    {
     "data": {
      "text/plain": [
       "100"
      ]
     },
     "execution_count": 42,
     "metadata": {},
     "output_type": "execute_result"
    }
   ],
   "source": [
    "MandelbrotSet\n",
    "mandelbrot_naive(0, 100)\n",
    "\n",
    "\n",
    "# plt.imshow(MandelbrotSet, extent=[-2, 1, -1.5, 1.5])\n",
    "# plt.colorbar()\n",
    "# plt.show()"
   ]
  }
 ],
 "metadata": {
  "kernelspec": {
   "display_name": "base",
   "language": "python",
   "name": "python3"
  },
  "language_info": {
   "codemirror_mode": {
    "name": "ipython",
    "version": 3
   },
   "file_extension": ".py",
   "mimetype": "text/x-python",
   "name": "python",
   "nbconvert_exporter": "python",
   "pygments_lexer": "ipython3",
   "version": "3.11.3"
  },
  "orig_nbformat": 4
 },
 "nbformat": 4,
 "nbformat_minor": 2
}
